{
  "nbformat": 4,
  "nbformat_minor": 0,
  "metadata": {
    "colab": {
      "provenance": [],
      "authorship_tag": "ABX9TyP0vBmNm8S9DPtWN2ldkoqC",
      "include_colab_link": true
    },
    "kernelspec": {
      "name": "python3",
      "display_name": "Python 3"
    },
    "language_info": {
      "name": "python"
    }
  },
  "cells": [
    {
      "cell_type": "markdown",
      "metadata": {
        "id": "view-in-github",
        "colab_type": "text"
      },
      "source": [
        "<a href=\"https://colab.research.google.com/github/fabio-baum/ia_para_engenheiros2/blob/main/Teste.ipynb\" target=\"_parent\"><img src=\"https://colab.research.google.com/assets/colab-badge.svg\" alt=\"Open In Colab\"/></a>"
      ]
    },
    {
      "cell_type": "code",
      "execution_count": null,
      "metadata": {
        "id": "cvc03PvY02Yb"
      },
      "outputs": [],
      "source": [
        "### Teste"
      ]
    },
    {
      "cell_type": "markdown",
      "source": [
        "# Teste"
      ],
      "metadata": {
        "id": "58NGyEnR2Y2H"
      }
    },
    {
      "cell_type": "markdown",
      "source": [
        "## Atualização"
      ],
      "metadata": {
        "id": "wEro3GEnejtR"
      }
    },
    {
      "cell_type": "code",
      "source": [],
      "metadata": {
        "id": "rh-Bzf5i2N1V"
      },
      "execution_count": null,
      "outputs": []
    }
  ]
}