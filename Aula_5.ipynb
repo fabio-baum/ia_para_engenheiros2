{
  "nbformat": 4,
  "nbformat_minor": 0,
  "metadata": {
    "colab": {
      "provenance": [],
      "authorship_tag": "ABX9TyMcXX4ZVyd6OpPTgMq7pDV6",
      "include_colab_link": true
    },
    "kernelspec": {
      "name": "python3",
      "display_name": "Python 3"
    },
    "language_info": {
      "name": "python"
    }
  },
  "cells": [
    {
      "cell_type": "markdown",
      "metadata": {
        "id": "view-in-github",
        "colab_type": "text"
      },
      "source": [
        "<a href=\"https://colab.research.google.com/github/fabio-baum/ia_para_engenheiros2/blob/main/Aula_5.ipynb\" target=\"_parent\"><img src=\"https://colab.research.google.com/assets/colab-badge.svg\" alt=\"Open In Colab\"/></a>"
      ]
    },
    {
      "cell_type": "code",
      "execution_count": null,
      "metadata": {
        "id": "DQ9zo47n5tsr"
      },
      "outputs": [],
      "source": [
        "import pandas as pd\n",
        "import numpy as np"
      ]
    },
    {
      "cell_type": "code",
      "source": [
        "# Load the dataset\n",
        "from google.colab import files\n",
        "uploaded = files.upload()"
      ],
      "metadata": {
        "id": "zBBQfJ9k5x98"
      },
      "execution_count": null,
      "outputs": []
    },
    {
      "cell_type": "code",
      "source": [
        "# Read the CSV file\n",
        "df = pd.read_csv('Quantum_dot_data.csv')"
      ],
      "metadata": {
        "id": "uBdusvAv51g5"
      },
      "execution_count": null,
      "outputs": []
    },
    {
      "cell_type": "code",
      "source": [
        "# Display basic information about the dataset\n",
        "print(\"Dataset Shape:\", df.shape)\n",
        "print(\"\\nFirst 5 rows:\")\n",
        "print(df.head())"
      ],
      "metadata": {
        "id": "7-JEERJn6aYi"
      },
      "execution_count": null,
      "outputs": []
    },
    {
      "cell_type": "code",
      "source": [
        "print(\"\\nColumn names:\")\n",
        "print(df.columns.tolist())"
      ],
      "metadata": {
        "id": "4WBke5zt6bTb"
      },
      "execution_count": null,
      "outputs": []
    },
    {
      "cell_type": "code",
      "source": [
        "print(\"\\nCompound distribution:\")\n",
        "print(df['Compound'].value_counts())"
      ],
      "metadata": {
        "id": "kLDAGd_f6oCf"
      },
      "execution_count": null,
      "outputs": []
    },
    {
      "cell_type": "code",
      "source": [
        "# Data preprocessing\n",
        "# Check for missing values\n",
        "print(\"\\nMissing values:\")\n",
        "print(df.isnull().sum())"
      ],
      "metadata": {
        "id": "NAUbaQRW6quE"
      },
      "execution_count": null,
      "outputs": []
    },
    {
      "cell_type": "code",
      "source": [
        "# Handle missing values by filling with mean for numerical columns\n",
        "numeric_columns = df.select_dtypes(include=[np.number]).columns\n",
        "df[numeric_columns] = df[numeric_columns].fillna(df[numeric_columns].mean())"
      ],
      "metadata": {
        "id": "zT0f8zT_6zFS"
      },
      "execution_count": null,
      "outputs": []
    },
    {
      "cell_type": "code",
      "source": [
        "# Prepare features and target\n",
        "X = df.drop('Compound', axis=1)\n",
        "y = df['Compound']"
      ],
      "metadata": {
        "id": "CUGSaSOv7WgN"
      },
      "execution_count": null,
      "outputs": []
    },
    {
      "cell_type": "code",
      "source": [
        "# Convert categorical target to numerical (binary classification: CdSe vs ZnSe)\n",
        "y_binary = (y == 'CdSe').astype(int)"
      ],
      "metadata": {
        "id": "vEVU-fHQ7Zcz"
      },
      "execution_count": null,
      "outputs": []
    },
    {
      "cell_type": "code",
      "source": [
        "# Split the data into training and testing sets\n",
        "X_train, X_test, y_train, y_test = train_test_split(X, y_binary, test_size=0.2, random_state=42, stratify=y_binary)"
      ],
      "metadata": {
        "id": "ilGZLjdm7djC"
      },
      "execution_count": null,
      "outputs": []
    },
    {
      "cell_type": "code",
      "source": [
        "# Standardize the features\n",
        "scaler = StandardScaler()\n",
        "X_train_scaled = scaler.fit_transform(X_train)\n",
        "X_test_scaled = scaler.transform(X_test)"
      ],
      "metadata": {
        "id": "UpBmZBNg7h_P"
      },
      "execution_count": null,
      "outputs": []
    },
    {
      "cell_type": "code",
      "source": [
        "# Logistic Regression\n",
        "# Create and train Logistic Regression model\n",
        "lr_model = LogisticRegression(random_state=42, max_iter=1000)\n",
        "lr_model.fit(X_train_scaled, y_train)"
      ],
      "metadata": {
        "id": "-vxJOjE67lez"
      },
      "execution_count": null,
      "outputs": []
    },
    {
      "cell_type": "code",
      "source": [
        "# Make predictions\n",
        "y_pred_lr = lr_model.predict(X_test_scaled)\n",
        "y_pred_proba_lr = lr_model.predict_proba(X_test_scaled)[:, 1]"
      ],
      "metadata": {
        "id": "3cqmTwbC70Ay"
      },
      "execution_count": null,
      "outputs": []
    },
    {
      "cell_type": "code",
      "source": [
        "# Calculate metrics for Logistic Regression\n",
        "lr_accuracy = accuracy_score(y_test, y_pred_lr)\n",
        "lr_cm = confusion_matrix(y_test, y_pred_lr)\n",
        "lr_auc = roc_auc_score(y_test, y_pred_proba_lr)"
      ],
      "metadata": {
        "id": "PCROqHwf8QSN"
      },
      "execution_count": null,
      "outputs": []
    },
    {
      "cell_type": "code",
      "source": [
        "# Calculate sensitivity and specificity\n",
        "lr_tn, lr_fp, lr_fn, lr_tp = lr_cm.ravel()\n",
        "lr_sensitivity = lr_tp / (lr_tp + lr_fn)  # Recall for positive class\n",
        "lr_specificity = lr_tn / (lr_tn + lr_fp)  # Recall for negative class"
      ],
      "metadata": {
        "id": "LwQWp63R8Xy9"
      },
      "execution_count": null,
      "outputs": []
    },
    {
      "cell_type": "code",
      "source": [
        "print(f\"Accuracy: {lr_accuracy:.4f}\")\n",
        "print(f\"Sensitivity (Recall): {lr_sensitivity:.4f}\")\n",
        "print(f\"Specificity: {lr_specificity:.4f}\")\n",
        "print(f\"AUC: {lr_auc:.4f}\")"
      ],
      "metadata": {
        "id": "3HwqclvS8YTz"
      },
      "execution_count": null,
      "outputs": []
    },
    {
      "cell_type": "code",
      "source": [
        "print(\"\\nConfusion Matrix:\")\n",
        "print(lr_cm)"
      ],
      "metadata": {
        "id": "npV2fQL38bDA"
      },
      "execution_count": null,
      "outputs": []
    },
    {
      "cell_type": "code",
      "source": [
        "# Linear Discriminant Analysis\n",
        "# Create and train LDA model\n",
        "lda_model = LinearDiscriminantAnalysis()\n",
        "lda_model.fit(X_train_scaled, y_train)"
      ],
      "metadata": {
        "id": "bSMEslaF8mtD"
      },
      "execution_count": null,
      "outputs": []
    },
    {
      "cell_type": "code",
      "source": [
        "# Make predictions\n",
        "y_pred_lda = lda_model.predict(X_test_scaled)\n",
        "y_pred_proba_lda = lda_model.predict_proba(X_test_scaled)[:, 1]"
      ],
      "metadata": {
        "id": "pN-8XHpS8tFG"
      },
      "execution_count": null,
      "outputs": []
    },
    {
      "cell_type": "code",
      "source": [
        "# Calculate metrics for LDA\n",
        "lda_accuracy = accuracy_score(y_test, y_pred_lda)\n",
        "lda_cm = confusion_matrix(y_test, y_pred_lda)\n",
        "lda_auc = roc_auc_score(y_test, y_pred_proba_lda)"
      ],
      "metadata": {
        "id": "Ml0aLPsa8xZt"
      },
      "execution_count": null,
      "outputs": []
    },
    {
      "cell_type": "code",
      "source": [
        "# Calculate sensitivity and specificity\n",
        "lda_tn, lda_fp, lda_fn, lda_tp = lda_cm.ravel()\n",
        "lda_sensitivity = lda_tp / (lda_tp + lda_fn)\n",
        "lda_specificity = lda_tn / (lda_tn + lda_fp)"
      ],
      "metadata": {
        "id": "2kzj-wsx81UY"
      },
      "execution_count": null,
      "outputs": []
    },
    {
      "cell_type": "code",
      "source": [
        "print(f\"Accuracy: {lda_accuracy:.4f}\")\n",
        "print(f\"Sensitivity (Recall): {lda_sensitivity:.4f}\")\n",
        "print(f\"Specificity: {lda_specificity:.4f}\")\n",
        "print(f\"AUC: {lda_auc:.4f}\")"
      ],
      "metadata": {
        "id": "fF2wBYNF9H2t"
      },
      "execution_count": null,
      "outputs": []
    },
    {
      "cell_type": "code",
      "source": [
        "print(\"\\nConfusion Matrix:\")\n",
        "print(lda_cm)"
      ],
      "metadata": {
        "id": "TR1qpALK9Kc0"
      },
      "execution_count": null,
      "outputs": []
    },
    {
      "cell_type": "code",
      "source": [
        "comparison_df = pd.DataFrame({\n",
        "    'Model': ['Logistic Regression', 'Linear Discriminant Analysis'],\n",
        "    'Accuracy': [lr_accuracy, lda_accuracy],\n",
        "    'Sensitivity': [lr_sensitivity, lda_sensitivity],\n",
        "    'Specificity': [lr_specificity, lda_specificity],\n",
        "    'AUC': [lr_auc, lda_auc]\n",
        "})"
      ],
      "metadata": {
        "id": "rci6Spe79M0L"
      },
      "execution_count": null,
      "outputs": []
    },
    {
      "cell_type": "code",
      "source": [
        "print(comparison_df)"
      ],
      "metadata": {
        "id": "SbIxOFKi9QWX"
      },
      "execution_count": null,
      "outputs": []
    },
    {
      "cell_type": "code",
      "source": [
        "# Plot ROC curves\n",
        "plt.figure(figsize=(10, 8))\n",
        "\n",
        "# Calculate ROC curves\n",
        "fpr_lr, tpr_lr, _ = roc_curve(y_test, y_pred_proba_lr)\n",
        "fpr_lda, tpr_lda, _ = roc_curve(y_test, y_pred_proba_lda)\n",
        "\n",
        "plt.plot(fpr_lr, tpr_lr, label=f'Logistic Regression (AUC = {lr_auc:.3f})', linewidth=2)\n",
        "plt.plot(fpr_lda, tpr_lda, label=f'LDA (AUC = {lda_auc:.3f})', linewidth=2)\n",
        "plt.plot([0, 1], [0, 1], 'k--', label='Random Classifier')\n",
        "plt.xlabel('False Positive Rate')\n",
        "plt.ylabel('True Positive Rate')\n",
        "plt.title('ROC Curves for Compound Classification')\n",
        "plt.legend()\n",
        "plt.grid(True, alpha=0.3)\n",
        "plt.show()"
      ],
      "metadata": {
        "id": "xZGxOVWi9Tq2"
      },
      "execution_count": null,
      "outputs": []
    },
    {
      "cell_type": "code",
      "source": [
        "# Plot confusion matrices side by side\n",
        "fig, (ax1, ax2) = plt.subplots(1, 2, figsize=(12, 5))\n",
        "\n",
        "# Logistic Regression confusion matrix\n",
        "sns.heatmap(lr_cm, annot=True, fmt='d', cmap='Blues', ax=ax1)\n",
        "ax1.set_title('Logistic Regression\\nConfusion Matrix')\n",
        "ax1.set_xlabel('Predicted')\n",
        "ax1.set_ylabel('Actual')\n",
        "ax1.set_xticklabels(['ZnSe', 'CdSe'])\n",
        "ax1.set_yticklabels(['ZnSe', 'CdSe'])\n",
        "\n",
        "# LDA confusion matrix\n",
        "sns.heatmap(lda_cm, annot=True, fmt='d', cmap='Blues', ax=ax2)\n",
        "ax2.set_title('Linear Discriminant Analysis\\nConfusion Matrix')\n",
        "ax2.set_xlabel('Predicted')\n",
        "ax2.set_ylabel('Actual')\n",
        "ax2.set_xticklabels(['ZnSe', 'CdSe'])\n",
        "ax2.set_yticklabels(['ZnSe', 'CdSe'])\n",
        "\n",
        "plt.tight_layout()\n",
        "plt.show()"
      ],
      "metadata": {
        "id": "kY9puc3Y9W_1"
      },
      "execution_count": null,
      "outputs": []
    }
  ]
}